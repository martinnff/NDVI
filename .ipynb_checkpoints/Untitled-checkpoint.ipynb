{
 "cells": [
  {
   "cell_type": "code",
   "execution_count": 1,
   "id": "1d95c3a1",
   "metadata": {},
   "outputs": [],
   "source": [
    "import os\n",
    "import rasterio as rio\n",
    "import numpy as np\n",
    "import json\n",
    "import webbrowser\n",
    "import requests\n",
    "import utils "
   ]
  },
  {
   "cell_type": "code",
   "execution_count": 2,
   "id": "76037fbb",
   "metadata": {},
   "outputs": [],
   "source": [
    "path = \"./rasterImages/NDVI.tif\"\n",
    "raster = rio.open(path)\n"
   ]
  },
  {
   "cell_type": "code",
   "execution_count": 3,
   "id": "e50e9303-1878-4721-ac6c-448bd5c973f7",
   "metadata": {},
   "outputs": [
    {
     "data": {
      "text/plain": [
       "'http://192.168.0.5:8080/search?q=Escairon rua doutor jose portela 4'"
      ]
     },
     "execution_count": 3,
     "metadata": {},
     "output_type": "execute_result"
    }
   ],
   "source": [
    "ip = '192.168.0.5'\n",
    "port = '8080'\n",
    "direction = 'Escairon rua doutor jose portela 4'\n",
    "api_url = 'http://{}:{}/search?q={}'.format(ip,port,direction)\n",
    "api_url"
   ]
  },
  {
   "cell_type": "code",
   "execution_count": 4,
   "id": "73174098-8477-4956-a475-7adc62b411b5",
   "metadata": {},
   "outputs": [
    {
     "data": {
      "text/plain": [
       "(42.5854465, -7.6401574)"
      ]
     },
     "execution_count": 4,
     "metadata": {},
     "output_type": "execute_result"
    }
   ],
   "source": [
    "coords = utils.use_requests(api_url)\n",
    "coords"
   ]
  },
  {
   "cell_type": "code",
   "execution_count": 5,
   "id": "e266076a",
   "metadata": {},
   "outputs": [
    {
     "data": {
      "text/plain": [
       "array([0.39066344, 0.40945134, 0.4087456 , 0.39120793, 0.3924565 ,\n",
       "       0.39183307, 0.39703596, 0.4023825 , 0.40783772, 0.4098348 ,\n",
       "       0.40472734, 0.40715486, 0.38138646, 0.38001165, 0.38052472,\n",
       "       0.40446225, 0.40880212, 0.3838174 , 0.3753197 , 0.38098827,\n",
       "       0.39842632, 0.40927932, 0.37752518, 0.37500095, 0.39364278],\n",
       "      dtype=float32)"
      ]
     },
     "execution_count": 5,
     "metadata": {},
     "output_type": "execute_result"
    }
   ],
   "source": [
    "a = utils.getNDVI(coords[0],coords[1],raster,3)\n",
    "a[\"values\"]\n"
   ]
  },
  {
   "cell_type": "code",
   "execution_count": null,
   "id": "9dc5ba17-f548-44e3-957f-5f18c417dcf0",
   "metadata": {},
   "outputs": [],
   "source": []
  }
 ],
 "metadata": {
  "kernelspec": {
   "display_name": "Python 3 (ipykernel)",
   "language": "python",
   "name": "python3"
  },
  "language_info": {
   "codemirror_mode": {
    "name": "ipython",
    "version": 3
   },
   "file_extension": ".py",
   "mimetype": "text/x-python",
   "name": "python",
   "nbconvert_exporter": "python",
   "pygments_lexer": "ipython3",
   "version": "3.10.9"
  }
 },
 "nbformat": 4,
 "nbformat_minor": 5
}
