{
 "cells": [
  {
   "cell_type": "code",
   "execution_count": 78,
   "id": "1d95c3a1",
   "metadata": {},
   "outputs": [],
   "source": [
    "import os\n",
    "import rasterio as rio\n",
    "import numpy as np\n",
    "import json\n",
    "import webbrowser\n",
    "import requests\n",
    "import utils \n",
    "import pandas as pd"
   ]
  },
  {
   "cell_type": "code",
   "execution_count": 79,
   "id": "76037fbb",
   "metadata": {},
   "outputs": [],
   "source": [
    "path = \"./rasterImages/NDVI.tif\"\n",
    "ip = 'localhost'\n",
    "port = '8080'\n",
    "input_file = 'input/direcciones_galicia.txt'\n",
    "output_file = 'output/NVDI.csv'"
   ]
  },
  {
   "cell_type": "code",
   "execution_count": 52,
   "id": "e50e9303-1878-4721-ac6c-448bd5c973f7",
   "metadata": {},
   "outputs": [
    {
     "data": {
      "text/plain": [
       "'http://localhost:8080/search?q=Escairon rua doutor jose portela 4'"
      ]
     },
     "execution_count": 52,
     "metadata": {},
     "output_type": "execute_result"
    }
   ],
   "source": [
    "raster = rio.open(path)"
   ]
  },
  {
   "cell_type": "code",
   "execution_count": 73,
   "id": "0152980c",
   "metadata": {},
   "outputs": [],
   "source": [
    "direcciones = pd.read_table(input_file,sep=\",\",header=None)\n",
    "pixels_ndvi = []\n",
    "\n",
    "for i in range(len(direcciones)):\n",
    "    api_url = 'http://{}:{}/search?q={}'.format(ip,port,direcciones.iloc[i,0])\n",
    "    coords = utils.send_request(api_url)\n",
    "    pixels_ndvi.append(utils.getNDVI(coords[0],coords[1],raster,3)['values'])"
   ]
  },
  {
   "cell_type": "code",
   "execution_count": 96,
   "id": "e4ce8d85",
   "metadata": {},
   "outputs": [],
   "source": [
    "nrows = len(direcciones)\n",
    "ncols = 5\n",
    "nvdi_features = np.ndarray((nrows,ncols))\n",
    "for i in range(len(pixels_ndvi)):\n",
    "    nvdi_features[i][0] = np.mean(pixels_ndvi[i])\n",
    "    nvdi_features[i][1] = np.max(pixels_ndvi[i])\n",
    "    nvdi_features[i][2] = np.min(pixels_ndvi[i])\n",
    "    nvdi_features[i][3] = np.var(pixels_ndvi[i])\n",
    "    nvdi_features[i][4] = np.median(pixels_ndvi[i])\n",
    "\n",
    "nvdi_features = pd.DataFrame(nvdi_features, columns=['Mean', 'Max', 'Min','Var','Median'])"
   ]
  },
  {
   "cell_type": "code",
   "execution_count": 97,
   "id": "104e6cbb",
   "metadata": {},
   "outputs": [],
   "source": [
    "nvdi_features.to_csv(output_file, sep=',')"
   ]
  },
  {
   "cell_type": "code",
   "execution_count": null,
   "id": "094651fb",
   "metadata": {},
   "outputs": [],
   "source": []
  }
 ],
 "metadata": {
  "kernelspec": {
   "display_name": "Python 3 (ipykernel)",
   "language": "python",
   "name": "python3"
  },
  "language_info": {
   "codemirror_mode": {
    "name": "ipython",
    "version": 3
   },
   "file_extension": ".py",
   "mimetype": "text/x-python",
   "name": "python",
   "nbconvert_exporter": "python",
   "pygments_lexer": "ipython3",
   "version": "3.10.9"
  }
 },
 "nbformat": 4,
 "nbformat_minor": 5
}
