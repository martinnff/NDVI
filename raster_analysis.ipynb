{
 "cells": [
  {
   "cell_type": "code",
   "execution_count": 50,
   "id": "1d95c3a1",
   "metadata": {},
   "outputs": [],
   "source": [
    "import os\n",
    "import rasterio as rio\n",
    "import numpy as np\n",
    "import json\n",
    "import webbrowser\n",
    "import requests\n",
    "import utils \n",
    "import pandas as pd"
   ]
  },
  {
   "cell_type": "code",
   "execution_count": 51,
   "id": "76037fbb",
   "metadata": {},
   "outputs": [],
   "source": [
    "path = \"./rasterImages/NDVI.tif\"\n",
    "raster = rio.open(path)\n"
   ]
  },
  {
   "cell_type": "code",
   "execution_count": 52,
   "id": "e50e9303-1878-4721-ac6c-448bd5c973f7",
   "metadata": {},
   "outputs": [
    {
     "data": {
      "text/plain": [
       "'http://localhost:8080/search?q=Escairon rua doutor jose portela 4'"
      ]
     },
     "execution_count": 52,
     "metadata": {},
     "output_type": "execute_result"
    }
   ],
   "source": [
    "ip = 'localhost'\n",
    "port = '8080'\n",
    "direction = 'Escairon rua doutor jose portela 4'\n",
    "api_url = 'http://{}:{}/search?q={}'.format(ip,port,direction)\n",
    "api_url"
   ]
  },
  {
   "cell_type": "code",
   "execution_count": 53,
   "id": "73174098-8477-4956-a475-7adc62b411b5",
   "metadata": {},
   "outputs": [
    {
     "data": {
      "text/plain": [
       "(-7.6393883, 42.5859087)"
      ]
     },
     "execution_count": 53,
     "metadata": {},
     "output_type": "execute_result"
    }
   ],
   "source": [
    "coords = utils.send_request(api_url)\n",
    "coords"
   ]
  },
  {
   "cell_type": "code",
   "execution_count": 54,
   "id": "e266076a",
   "metadata": {},
   "outputs": [
    {
     "data": {
      "text/plain": [
       "array([0.39703596, 0.4023825 , 0.40783772, 0.4098348 , 0.3959255 ,\n",
       "       0.40715486, 0.38138646, 0.38001165, 0.38052472, 0.4115192 ,\n",
       "       0.40880212, 0.3838174 , 0.3753197 , 0.38098827, 0.41285402,\n",
       "       0.40927932, 0.37752518, 0.37500095, 0.39364278, 0.4119322 ,\n",
       "       0.42005306, 0.38171366, 0.3947283 , 0.41590464, 0.40824443],\n",
       "      dtype=float32)"
      ]
     },
     "execution_count": 54,
     "metadata": {},
     "output_type": "execute_result"
    }
   ],
   "source": [
    "a = utils.getNDVI(coords[0],coords[1],raster,3)\n",
    "a[\"values\"]\n"
   ]
  },
  {
   "cell_type": "code",
   "execution_count": 73,
   "id": "0152980c",
   "metadata": {},
   "outputs": [],
   "source": [
    "direcciones = pd.read_table(\"direcciones_galicia.txt\",sep=\",\",header=None)\n",
    "pixels_ndvi = []\n",
    "\n",
    "for i in range(len(direcciones)):\n",
    "    api_url = 'http://{}:{}/search?q={}'.format(ip,port,direcciones.iloc[i,0])\n",
    "    coords = utils.send_request(api_url)\n",
    "    pixels_ndvi.append(utils.getNDVI(coords[0],coords[1],raster,3)['values'])"
   ]
  },
  {
   "cell_type": "code",
   "execution_count": 76,
   "id": "e4ce8d85",
   "metadata": {},
   "outputs": [
    {
     "data": {
      "text/plain": [
       "[array([0.48772076, 0.48689362, 0.41953105, 0.44467804, 0.5180267 ,\n",
       "        0.46502328, 0.49382707, 0.47280866, 0.44868183, 0.51427734,\n",
       "        0.4644546 , 0.49378434, 0.47996038, 0.41995126, 0.5165511 ,\n",
       "        0.47229052, 0.49766293, 0.4700944 , 0.4113829 , 0.47019237,\n",
       "        0.43689018, 0.4705325 , 0.48041   , 0.40445498, 0.45308164],\n",
       "       dtype=float32),\n",
       " array([-0.1372078 , -0.13932581, -0.14353856, -0.139844  , -0.13950068,\n",
       "        -0.13694067, -0.13971639, -0.13943996, -0.13825317, -0.13809952,\n",
       "        -0.13691463, -0.13943693, -0.13918364, -0.13587502, -0.13734744,\n",
       "        -0.13563693, -0.14162016, -0.14228885, -0.14391108, -0.1374354 ,\n",
       "        -0.13662444, -0.14106575, -0.14285612, -0.14131628, -0.137648  ],\n",
       "       dtype=float32),\n",
       " array([0.41777703, 0.4367113 , 0.44469982, 0.45672995, 0.47194842,\n",
       "        0.41104734, 0.44195303, 0.46129417, 0.4591369 , 0.47528595,\n",
       "        0.40187395, 0.43290976, 0.45179972, 0.4604458 , 0.47449297,\n",
       "        0.3449197 , 0.4033627 , 0.43380195, 0.4782862 , 0.46289364,\n",
       "        0.45800084, 0.41614804, 0.41642895, 0.4532201 , 0.427973  ],\n",
       "       dtype=float32),\n",
       " array([0.35737824, 0.330738  , 0.34392056, 0.34894654, 0.3541874 ,\n",
       "        0.36822784, 0.3330156 , 0.34116998, 0.34094018, 0.3629674 ,\n",
       "        0.36374432, 0.3511652 , 0.3422766 , 0.3488608 , 0.36409262,\n",
       "        0.33916366, 0.3352281 , 0.3556323 , 0.35720062, 0.3595006 ,\n",
       "        0.33921984, 0.33700997, 0.34117144, 0.35965738, 0.3585774 ],\n",
       "       dtype=float32),\n",
       " array([0.48239905, 0.44849548, 0.45832932, 0.43460852, 0.5023925 ,\n",
       "        0.4668195 , 0.4797504 , 0.48772246, 0.3467567 , 0.42004666,\n",
       "        0.46654344, 0.4976864 , 0.50947654, 0.37108353, 0.35668525,\n",
       "        0.48042628, 0.5076445 , 0.47200757, 0.38414863, 0.45785937,\n",
       "        0.5006799 , 0.49650323, 0.42424357, 0.3922627 , 0.5194241 ],\n",
       "       dtype=float32),\n",
       " array([-0.09882642, -0.10348698, -0.09933223, -0.10025899, -0.09724778,\n",
       "        -0.10737108, -0.10516176, -0.10471175, -0.10065181, -0.09704719,\n",
       "        -0.10734016, -0.10478553, -0.10204253, -0.10138504, -0.10055573,\n",
       "        -0.10928334, -0.1078546 , -0.10407472, -0.10097862, -0.10368498,\n",
       "        -0.10743148, -0.10734507, -0.10449386, -0.10032302, -0.10348172],\n",
       "       dtype=float32),\n",
       " array([0.39713204, 0.40362164, 0.41137436, 0.3952011 , 0.3715951 ,\n",
       "        0.37050626, 0.40704727, 0.41223606, 0.38691968, 0.37709382,\n",
       "        0.36485612, 0.38007668, 0.40817013, 0.375055  , 0.3699029 ,\n",
       "        0.3697196 , 0.36472318, 0.40013763, 0.3609777 , 0.34977716,\n",
       "        0.37198344, 0.3690845 , 0.36743563, 0.34670112, 0.34666705],\n",
       "       dtype=float32),\n",
       " array([0.37137422, 0.3609828 , 0.3258932 , 0.33275974, 0.36113378,\n",
       "        0.37028217, 0.36333272, 0.32061473, 0.31240237, 0.35475314,\n",
       "        0.37608334, 0.37401736, 0.33571878, 0.34240693, 0.3622201 ,\n",
       "        0.37374532, 0.38079816, 0.36196733, 0.36912492, 0.369183  ,\n",
       "        0.3622722 , 0.36273187, 0.36360687, 0.3702301 , 0.34689605],\n",
       "       dtype=float32)]"
      ]
     },
     "execution_count": 76,
     "metadata": {},
     "output_type": "execute_result"
    }
   ],
   "source": [
    "\n",
    "pixels_ndvi"
   ]
  }
 ],
 "metadata": {
  "kernelspec": {
   "display_name": "Python 3 (ipykernel)",
   "language": "python",
   "name": "python3"
  },
  "language_info": {
   "codemirror_mode": {
    "name": "ipython",
    "version": 3
   },
   "file_extension": ".py",
   "mimetype": "text/x-python",
   "name": "python",
   "nbconvert_exporter": "python",
   "pygments_lexer": "ipython3",
   "version": "3.10.9"
  }
 },
 "nbformat": 4,
 "nbformat_minor": 5
}
