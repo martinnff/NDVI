{
 "cells": [
  {
   "cell_type": "code",
   "execution_count": 1,
   "metadata": {
    "colab": {
     "base_uri": "https://localhost:8080/"
    },
    "id": "L2LX27smnkcc",
    "outputId": "bb38807b-4511-4bf5-bc42-7923342d0ff9"
   },
   "outputs": [],
   "source": [
    "import sys\n",
    "\n",
    "import os\n",
    "import rasterio as rio\n",
    "import msoffcrypto\n",
    "import numpy as np\n",
    "import json\n",
    "import webbrowser\n",
    "import requests\n",
    "import pandas as pd\n",
    "import time\n",
    "from tqdm import tqdm"
   ]
  },
  {
   "cell_type": "code",
   "execution_count": 4,
   "metadata": {
    "colab": {
     "base_uri": "https://localhost:8080/"
    },
    "id": "Ty-hIzGlyR-V",
    "outputId": "9f11baec-8e6d-4d23-af08-ec234d667a1c"
   },
   "outputs": [
    {
     "name": "stdout",
     "output_type": "stream",
     "text": [
      "Hojas disponibles: ['ORENSE', 'PONTEVEDRA', 'BARCELONA', 'ZARAGOZA', 'TERUEL', 'VIZCAYA', 'SEVILLA', 'LEON', 'SEGOVIA', 'TUDELA', 'ZAMORA', 'VALLADOLID', 'SALAMANCA', 'GERONA', 'MALLORCA', 'MENORCA']\n"
     ]
    }
   ],
   "source": [
    "import msoffcrypto\n",
    "import pandas as pd\n",
    "from io import BytesIO\n",
    "\n",
    "\n",
    "file_name = \"/home/martin/zonasVerdes/input/direcciones_y_coordenadas_protegido.xlsx\"\n",
    "\n",
    "password = \"CLM_DES\"\n",
    "\n",
    "with open(file_name, \"rb\") as f:\n",
    "    encrypted = msoffcrypto.OfficeFile(f)\n",
    "    encrypted.load_key(password=password)\n",
    "    decrypted = BytesIO()\n",
    "    encrypted.decrypt(decrypted)\n",
    "\n",
    "# Carga el Excel desencriptado\n",
    "excel = pd.ExcelFile(decrypted)\n",
    "sheet_names = excel.sheet_names\n",
    "print(f\"Hojas disponibles: {sheet_names}\")"
   ]
  },
  {
   "cell_type": "code",
   "execution_count": null,
   "metadata": {
    "id": "4Cvykyaeq4i4"
   },
   "outputs": [],
   "source": []
  },
  {
   "cell_type": "code",
   "execution_count": null,
   "metadata": {
    "colab": {
     "base_uri": "https://localhost:8080/"
    },
    "id": "b3JYKFGd01Q5",
    "outputId": "a91aa672-3751-4ca7-b7fe-6cc910027c4d"
   },
   "outputs": [],
   "source": [
    "from shapely.geometry import Point\n",
    "from shapely.ops import transform\n",
    "import pyproj\n",
    "import textwrap\n",
    "\n",
    "def get_buffered_bounds(df, lon_col='long', lat_col='lat', buffer_m=500):\n",
    "    df = df.copy()\n",
    "\n",
    "    # Reemplaza espacios y strings vacíos por NaN\n",
    "    df[lon_col] = df[lon_col].replace(r'^\\s*$', np.nan, regex=True)\n",
    "    df[lat_col] = df[lat_col].replace(r'^\\s*$', np.nan, regex=True)\n",
    "\n",
    "    # Convierte a numérico, convirtiendo valores no numéricos a NaN\n",
    "    df[lon_col] = pd.to_numeric(df[lon_col], errors='coerce')\n",
    "    df[lat_col] = pd.to_numeric(df[lat_col], errors='coerce')\n",
    "\n",
    "    # Elimina filas sin coordenadas válidas\n",
    "    df = df.dropna(subset=[lon_col, lat_col])\n",
    "\n",
    "    if df.empty:\n",
    "        raise ValueError(\"No hay coordenadas válidas en esta hoja.\")\n",
    "\n",
    "    # Resto igual\n",
    "    points = [Point(lon, lat) for lon, lat in zip(df[lon_col], df[lat_col])]\n",
    "\n",
    "    proj_wgs84 = pyproj.CRS('EPSG:4326')\n",
    "    proj_utm = pyproj.CRS.from_user_input(\"EPSG:25830\")\n",
    "    project = pyproj.Transformer.from_crs(proj_wgs84, proj_utm, always_xy=True).transform\n",
    "    project_back = pyproj.Transformer.from_crs(proj_utm, proj_wgs84, always_xy=True).transform\n",
    "\n",
    "    multipoint = None\n",
    "    for p in points:\n",
    "        projected = transform(project, p)\n",
    "        buffered = projected.buffer(buffer_m)\n",
    "        multipoint = buffered if multipoint is None else multipoint.union(buffered)\n",
    "\n",
    "    bounds = transform(project_back, multipoint).bounds\n",
    "    return bounds\n",
    "\n",
    "def generar_codigo_gee(nombre_hoja, bounds, fecha_inicio, fecha_fin):\n",
    "    l, b, r, t = bounds\n",
    "\n",
    "    # Si las coordenadas parecen estar en formato [lat, lon], se corrigen a [lon, lat]\n",
    "    if all(-90 <= x <= 90 for x in (l, r, b, t)):\n",
    "        print(f\"[AVISO] Invirtiendo coordenadas para {nombre_hoja}: asumido orden [lat, lon]\")\n",
    "        l, b, r, t = b, l, t, r\n",
    "\n",
    "    codigo = f\"\"\"\n",
    "    var {nombre_hoja.lower()} = ee.Geometry.Polygon(\n",
    "        [[[{l:.4f}, {b:.4f}],\n",
    "          [{l:.4f}, {t:.4f}],\n",
    "          [{r:.4f}, {t:.4f}],\n",
    "          [{r:.4f}, {b:.4f}],\n",
    "          [{l:.4f}, {b:.4f}]]]\n",
    "    );\n",
    "    var fechaInicio = '{fecha_inicio}';\n",
    "    var fechaFin = '{fecha_fin}';\n",
    "\n",
    "    var coleccion = ee.ImageCollection(\"COPERNICUS/S2\")\n",
    "      .filterBounds({nombre_hoja.lower()})\n",
    "      .filterDate(fechaInicio, fechaFin)\n",
    "      .filter(ee.Filter.lt('CLOUDY_PIXEL_PERCENTAGE', 10));\n",
    "\n",
    "    var coleccionNDVI = coleccion.map(function(imagen) {{\n",
    "      var ndvi = imagen.normalizedDifference(['B8', 'B4']).rename('NDVI');\n",
    "      return ndvi.copyProperties(imagen, imagen.propertyNames());\n",
    "    }});\n",
    "\n",
    "    var ndviPromedio = coleccionNDVI.mean();\n",
    "\n",
    "    var parametrosVisualizacion = {{\n",
    "      min: 0,\n",
    "      max: 1,\n",
    "      palette: ['white', 'green']\n",
    "    }};\n",
    "    Map.centerObject({nombre_hoja.lower()}, 10);\n",
    "    Map.addLayer(ndviPromedio.clip({nombre_hoja.lower()}), parametrosVisualizacion, 'NDVI Promedio');\n",
    "\n",
    "    Export.image.toDrive({{\n",
    "      image: ndviPromedio.clip({nombre_hoja.lower()}),\n",
    "      description: 'NDVI_{fecha_inicio}_{nombre_hoja}',\n",
    "      folder: 'EarthEngine',\n",
    "      fileNamePrefix: 'NDVI_{fecha_inicio}_{nombre_hoja}',\n",
    "      scale: 10,\n",
    "      region: {nombre_hoja.lower()},\n",
    "      maxPixels: 1e13\n",
    "    }});\n",
    "    \"\"\"\n",
    "    return textwrap.dedent(codigo)\n",
    "\n",
    "\n",
    "# Ejemplo: para todas las hojas\n",
    "fecha_inicio = '2023-05-01'\n",
    "fecha_fin = '2023-07-31'\n",
    "codigos = {}\n",
    "\n",
    "for hoja in sheet_names:\n",
    "    print(hoja)\n",
    "    df = excel.parse(hoja)\n",
    "    bounds = get_buffered_bounds(df)\n",
    "    codigos[hoja] = generar_codigo_gee(hoja, bounds, fecha_inicio, fecha_fin)\n",
    "\n",
    "# Mostrar un ejemplo\n",
    "print(codigos[sheet_names[0]])"
   ]
  },
  {
   "cell_type": "code",
   "execution_count": null,
   "metadata": {
    "colab": {
     "base_uri": "https://localhost:8080/"
    },
    "id": "aZkza9bP09t-",
    "outputId": "e2ec10c6-1b18-46bd-fb3c-d011de5e0787"
   },
   "outputs": [],
   "source": [
    "#7,8,9,10,11,12,14,15\n",
    "print(codigos[sheet_names])"
   ]
  },
  {
   "cell_type": "code",
   "execution_count": 2,
   "metadata": {
    "id": "ZU-GYIj-2lE5"
   },
   "outputs": [],
   "source": [
    "import os\n",
    "import io\n",
    "import numpy as np\n",
    "import pandas as pd\n",
    "import geopandas as gpd\n",
    "import rasterio\n",
    "from rasterio.mask import mask\n",
    "from shapely.geometry import Point, mapping\n",
    "import msoffcrypto\n",
    "from concurrent.futures import ProcessPoolExecutor\n",
    "from tqdm import tqdm\n",
    "import tempfile\n",
    "import pyproj\n",
    "from shapely.ops import transform\n",
    "\n",
    "def cargar_excel_protegido(ruta_excel, password):\n",
    "    with open(ruta_excel, 'rb') as f:\n",
    "        archivo = msoffcrypto.OfficeFile(f)\n",
    "        archivo.load_key(password=password)\n",
    "        excel_desprotegido = io.BytesIO()\n",
    "        archivo.decrypt(excel_desprotegido)\n",
    "        excel_desprotegido.seek(0)\n",
    "    return pd.ExcelFile(excel_desprotegido)\n",
    "\n",
    "def buffer_en_metros(punto, metros, crs_actual):\n",
    "    # CRS métrico: pseudo‐Mercator\n",
    "    crs_metrico = pyproj.CRS(\"EPSG:3857\")\n",
    "    # transformador → métrico\n",
    "    to_m = pyproj.Transformer.from_crs(crs_actual, crs_metrico, always_xy=True).transform\n",
    "    # transformador ← de métrico de nuevo a ráster\n",
    "    to_raster = pyproj.Transformer.from_crs(crs_metrico, crs_actual, always_xy=True).transform\n",
    "\n",
    "    punto_m = transform(to_m, punto)                  # punto en metros\n",
    "    buffer_m = punto_m.buffer(metros)                 # círculo de metros\n",
    "    buffer_geo = transform(to_raster, buffer_m)       # polígono de vuelta a grados\n",
    "    return buffer_geo\n",
    "\n",
    "def extraer_estadisticas_raster(ruta_raster, punto, radios=[100, 250, 500]):\n",
    "    resultados = {}\n",
    "\n",
    "    with rasterio.open(ruta_raster) as src:\n",
    "        crs_raster = src.crs\n",
    "\n",
    "        for radio in radios:\n",
    "            try:\n",
    "                # Si el CRS del ráster está en grados (EPSG:4326), se reproyecta\n",
    "                if crs_raster.to_epsg() == 4326:\n",
    "                    # Reproyectamos el punto a UTM zona 29N (válido para Galicia)\n",
    "                    punto_metrico = gpd.GeoSeries([punto], crs=\"EPSG:4326\").to_crs(\"EPSG:25829\").iloc[0]\n",
    "                    buffer_metrico = punto_metrico.buffer(radio)\n",
    "\n",
    "                    # Reproyectamos el buffer de vuelta a EPSG:4326\n",
    "                    buffer = gpd.GeoSeries([buffer_metrico], crs=\"EPSG:25829\").to_crs(\"EPSG:4326\").iloc[0]\n",
    "                else:\n",
    "                    # El CRS ya está en metros, buffer directo\n",
    "                    buffer = punto.buffer(radio)\n",
    "\n",
    "                # Extraer datos del ráster dentro del buffer\n",
    "                out_image, _ = mask(src, [mapping(buffer)], crop=True)\n",
    "                datos = out_image[0].astype('float')\n",
    "                datos[datos == src.nodata] = np.nan\n",
    "                datos = datos[~np.isnan(datos)]\n",
    "\n",
    "                if len(datos) == 0:\n",
    "                    stats = {f'{stat}_{radio}m': None for stat in ['mean','max','min', 'median', 'q25', 'q75', 'std', 'iqr']}\n",
    "                else:\n",
    "                    q25 = np.percentile(datos, 25)\n",
    "                    q75 = np.percentile(datos, 75)\n",
    "                    stats = {\n",
    "                        f'mean_{radio}m': np.mean(datos),\n",
    "                        f'max_{radio}m': max(datos),\n",
    "                        f'min_{radio}m': min(datos),\n",
    "                        f'median_{radio}m': np.median(datos),\n",
    "                        f'q25_{radio}m': q25,\n",
    "                        f'q75_{radio}m': q75,\n",
    "                        f'std_{radio}m': np.std(datos),\n",
    "                        f'iqr_{radio}m': q75 - q25,\n",
    "                    }\n",
    "\n",
    "                resultados.update(stats)\n",
    "\n",
    "            except Exception as e:\n",
    "                print(f\"Error procesando radio {radio} m para punto {punto}: {e}\")\n",
    "                resultados.update({f'{stat}_{radio}m': None for stat in ['mean','max', 'min', 'median', 'q25', 'q75', 'std', 'iqr']})\n",
    "\n",
    "    return resultados\n",
    "\n",
    "def procesar_hoja(args):\n",
    "    hoja, df, raster_path, output_path, buffers = args\n",
    "    print(f\"[+] Procesando hoja: {hoja}\")\n",
    "\n",
    "    if not os.path.exists(raster_path):\n",
    "        print(f\"[Aviso] Raster no encontrado para hoja '{hoja}', se omite.\")\n",
    "        return None\n",
    "\n",
    "    if 'lat' not in df.columns or 'long' not in df.columns:\n",
    "        print(f\"[Aviso] Hoja '{hoja}' sin columnas lat/long válidas.\")\n",
    "        return None\n",
    "\n",
    "    try:\n",
    "        with rasterio.open(raster_path) as src:\n",
    "            crs_raster = src.crs\n",
    "    except Exception as e:\n",
    "        print(f\"[Error] No se pudo abrir el raster '{raster_path}': {e}\")\n",
    "        return None\n",
    "\n",
    "    resultados = []\n",
    "    for _, fila in df.iterrows():\n",
    "        lat = fila.get('lat')\n",
    "        lon = fila.get('long')\n",
    "\n",
    "        if pd.isnull(lat) or pd.isnull(lon):\n",
    "            resultados.append({f'{stat}_{r}m': None for r in buffers for stat in ['mean','max', 'min', 'median', 'q25', 'q75', 'std', 'iqr']})\n",
    "            continue\n",
    "\n",
    "        try:\n",
    "            lat = float(lat)\n",
    "            lon = float(lon)\n",
    "        except ValueError:\n",
    "            resultados.append({f'{stat}_{r}m': None for r in buffers for stat in ['mean', 'max', 'min', 'median', 'q25', 'q75', 'std', 'iqr']})\n",
    "            continue\n",
    "\n",
    "        try:\n",
    "            punto = Point(lat,lon)\n",
    "            stats = extraer_estadisticas_raster(raster_path,punto, buffers)\n",
    "            resultados.append(stats)\n",
    "        except Exception as e:\n",
    "            print(f\"[Error] Al procesar punto ({lat}, {lon}) en hoja '{hoja}': {e}\")\n",
    "            resultados.append({f'{stat}_{r}m': None for r in buffers for stat in ['mean', 'max', 'min', 'median', 'q25', 'q75', 'std', 'iqr']})\n",
    "\n",
    "    df_resultado = pd.concat([df, pd.DataFrame(resultados)], axis=1)\n",
    "    hoja_path = os.path.join(output_path, f\"{hoja}.xlsx\")\n",
    "    df_resultado.to_excel(hoja_path, index=False)\n",
    "    print(f\"Hoja '{hoja}' procesada.\")\n",
    "    return hoja_path, hoja\n",
    "\n",
    "def procesar_excel_paralelo(ruta_excel, password, carpeta_rasters, salida_excel, buffers,max_workers=4):\n",
    "    xls = cargar_excel_protegido(ruta_excel, password)\n",
    "    hojas_y_dfs = [(hoja, xls.parse(hoja)) for hoja in xls.sheet_names]\n",
    "\n",
    "    with tempfile.TemporaryDirectory() as temp_dir:\n",
    "        args = [\n",
    "            (hoja, df, os.path.join(carpeta_rasters, f\"{hoja}.tif\"), temp_dir, buffers)\n",
    "            for hoja, df in hojas_y_dfs\n",
    "        ]\n",
    "\n",
    "        print(f\"Procesando {len(args)} hojas en paralelo...\")\n",
    "        with ProcessPoolExecutor(max_workers=max_workers) as executor:\n",
    "            resultados = list(tqdm(executor.map(procesar_hoja, args), total=len(args)))\n",
    "\n",
    "        writer = pd.ExcelWriter(salida_excel, engine='openpyxl')\n",
    "        for res in resultados:\n",
    "            if res:\n",
    "                hoja_path, hoja = res\n",
    "                df_temp = pd.read_excel(hoja_path)\n",
    "                df_temp.to_excel(writer, sheet_name=hoja, index=False)\n",
    "        writer.close()\n",
    "        print(f\"Todas las hojas combinadas en: {salida_excel}\")\n"
   ]
  },
  {
   "cell_type": "code",
   "execution_count": 4,
   "metadata": {
    "colab": {
     "base_uri": "https://localhost:8080/"
    },
    "id": "E8ZpU3sf2CIw",
    "outputId": "26f9ef5b-ea2b-455c-8242-645f023f1fbb"
   },
   "outputs": [
    {
     "name": "stdout",
     "output_type": "stream",
     "text": [
      "Procesando 16 hojas en paralelo...\n"
     ]
    },
    {
     "name": "stderr",
     "output_type": "stream",
     "text": [
      "  0%|                                                    | 0/16 [00:00<?, ?it/s]"
     ]
    },
    {
     "name": "stdout",
     "output_type": "stream",
     "text": [
      "[+] Procesando hoja: ORENSE\n",
      "[+] Procesando hoja: PONTEVEDRA[+] Procesando hoja: BARCELONA\n",
      "[+] Procesando hoja: TERUEL[+] Procesando hoja: ZARAGOZA[+] Procesando hoja: VIZCAYA\n",
      "\n",
      "\n",
      "\n",
      "Error procesando radio 100 m para punto POINT (0 0): Input shapes do not overlap raster.\n",
      "Error procesando radio 250 m para punto POINT (0 0): Input shapes do not overlap raster.\n",
      "Error procesando radio 500 m para punto POINT (0 0): Input shapes do not overlap raster.\n",
      "Error procesando radio 1000 m para punto POINT (0 0): Input shapes do not overlap raster.\n",
      "Hoja 'TERUEL' procesada.\n",
      "[+] Procesando hoja: SEVILLA\n",
      "Hoja 'ORENSE' procesada.\n"
     ]
    },
    {
     "name": "stderr",
     "output_type": "stream",
     "text": [
      "  6%|██▊                                         | 1/16 [00:04<01:00,  4.05s/it]"
     ]
    },
    {
     "name": "stdout",
     "output_type": "stream",
     "text": [
      "[+] Procesando hoja: LEON\n",
      "Hoja 'LEON' procesada.\n",
      "[+] Procesando hoja: SEGOVIA\n",
      "Hoja 'PONTEVEDRA' procesada.\n"
     ]
    },
    {
     "name": "stderr",
     "output_type": "stream",
     "text": [
      " 12%|█████▌                                      | 2/16 [00:06<00:40,  2.93s/it]"
     ]
    },
    {
     "name": "stdout",
     "output_type": "stream",
     "text": [
      "[+] Procesando hoja: TUDELA\n",
      "Hoja 'SEGOVIA' procesada.\n",
      "[+] Procesando hoja: ZAMORA\n",
      "Hoja 'ZAMORA' procesada.\n",
      "[+] Procesando hoja: VALLADOLID\n",
      "Hoja 'TUDELA' procesada.\n",
      "[+] Procesando hoja: SALAMANCA\n",
      "Hoja 'BARCELONA' procesada.\n"
     ]
    },
    {
     "name": "stderr",
     "output_type": "stream",
     "text": [
      " 19%|████████▎                                   | 3/16 [00:09<00:41,  3.16s/it]"
     ]
    },
    {
     "name": "stdout",
     "output_type": "stream",
     "text": [
      "[+] Procesando hoja: GERONA\n",
      "Error procesando radio 100 m para punto POINT (0 0): Input shapes do not overlap raster.\n",
      "Error procesando radio 250 m para punto POINT (0 0): Input shapes do not overlap raster.\n",
      "Error procesando radio 500 m para punto POINT (0 0): Input shapes do not overlap raster.\n",
      "Error procesando radio 1000 m para punto POINT (0 0): Input shapes do not overlap raster.\n",
      "Hoja 'SEVILLA' procesada.\n",
      "[+] Procesando hoja: MALLORCA\n",
      "Hoja 'ZARAGOZA' procesada.\n"
     ]
    },
    {
     "name": "stderr",
     "output_type": "stream",
     "text": [
      " 25%|███████████                                 | 4/16 [00:10<00:29,  2.44s/it]"
     ]
    },
    {
     "name": "stdout",
     "output_type": "stream",
     "text": [
      "[+] Procesando hoja: MENORCA\n",
      "Hoja 'VIZCAYA' procesada.\n"
     ]
    },
    {
     "name": "stderr",
     "output_type": "stream",
     "text": [
      " 38%|████████████████▌                           | 6/16 [00:11<00:11,  1.18s/it]"
     ]
    },
    {
     "name": "stdout",
     "output_type": "stream",
     "text": [
      "Hoja 'MENORCA' procesada.\n",
      "Hoja 'MALLORCA' procesada.\n",
      "Hoja 'VALLADOLID' procesada.\n"
     ]
    },
    {
     "name": "stderr",
     "output_type": "stream",
     "text": [
      " 75%|████████████████████████████████▎          | 12/16 [00:20<00:06,  1.51s/it]"
     ]
    },
    {
     "name": "stdout",
     "output_type": "stream",
     "text": [
      "Hoja 'SALAMANCA' procesada.\n"
     ]
    },
    {
     "name": "stderr",
     "output_type": "stream",
     "text": [
      " 81%|██████████████████████████████████▉        | 13/16 [00:22<00:04,  1.49s/it]"
     ]
    },
    {
     "name": "stdout",
     "output_type": "stream",
     "text": [
      "Hoja 'GERONA' procesada.\n"
     ]
    },
    {
     "name": "stderr",
     "output_type": "stream",
     "text": [
      "100%|███████████████████████████████████████████| 16/16 [00:23<00:00,  1.44s/it]\n"
     ]
    },
    {
     "name": "stdout",
     "output_type": "stream",
     "text": [
      "Todas las hojas combinadas en: /home/martin/zonasVerdes/input/resultados_ndvi.xlsx\n"
     ]
    }
   ],
   "source": [
    "procesar_excel_paralelo(\n",
    "    ruta_excel='/home/martin/zonasVerdes/input/direcciones_y_coordenadas_protegido.xlsx',\n",
    "    password='CLM_DES',\n",
    "    carpeta_rasters='/home/martin/zonasVerdes/input/EarthEngine/EarthEngine',\n",
    "    salida_excel='/home/martin/zonasVerdes/input/resultados_ndvi.xlsx',\n",
    "    buffers = [100,250,500,1000],\n",
    "    max_workers=6  # Ajusta según tu CPU\n",
    ")\n"
   ]
  },
  {
   "cell_type": "code",
   "execution_count": null,
   "metadata": {},
   "outputs": [],
   "source": []
  },
  {
   "cell_type": "code",
   "execution_count": null,
   "metadata": {},
   "outputs": [],
   "source": [
    "import rasterio\n",
    "with rasterio.open('/home/martin/zonasVerdes/input/EarthEngine/EarthEngine/ORENSE.tif') as src:\n",
    "    print(src.crs)\n",
    "    print(src.bounds)"
   ]
  },
  {
   "cell_type": "code",
   "execution_count": null,
   "metadata": {},
   "outputs": [],
   "source": []
  },
  {
   "cell_type": "code",
   "execution_count": null,
   "metadata": {},
   "outputs": [],
   "source": []
  }
 ],
 "metadata": {
  "colab": {
   "provenance": []
  },
  "kernelspec": {
   "display_name": "Zonas verdes (.venv)",
   "language": "python",
   "name": "venv"
  },
  "language_info": {
   "codemirror_mode": {
    "name": "ipython",
    "version": 3
   },
   "file_extension": ".py",
   "mimetype": "text/x-python",
   "name": "python",
   "nbconvert_exporter": "python",
   "pygments_lexer": "ipython3",
   "version": "3.10.9"
  }
 },
 "nbformat": 4,
 "nbformat_minor": 4
}
