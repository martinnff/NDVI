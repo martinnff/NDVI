{
 "cells": [
  {
   "cell_type": "code",
   "execution_count": 1,
   "metadata": {
    "colab": {
     "base_uri": "https://localhost:8080/"
    },
    "id": "L2LX27smnkcc",
    "outputId": "bb38807b-4511-4bf5-bc42-7923342d0ff9"
   },
   "outputs": [],
   "source": [
    "import sys\n",
    "\n",
    "import os\n",
    "import rasterio as rio\n",
    "import msoffcrypto\n",
    "import numpy as np\n",
    "import json\n",
    "import webbrowser\n",
    "import requests\n",
    "import pandas as pd\n",
    "import time\n",
    "from tqdm import tqdm"
   ]
  },
  {
   "cell_type": "code",
   "execution_count": 2,
   "metadata": {
    "colab": {
     "base_uri": "https://localhost:8080/"
    },
    "id": "Ty-hIzGlyR-V",
    "outputId": "9f11baec-8e6d-4d23-af08-ec234d667a1c"
   },
   "outputs": [
    {
     "name": "stdout",
     "output_type": "stream",
     "text": [
      "Hojas disponibles: ['ORENSE', 'PONTEVEDRA', 'BARCELONA', 'ZARAGOZA', 'TERUEL', 'VIZCAYA', 'SEVILLA', 'LEON', 'SEGOVIA', 'TUDELA', 'ZAMORA', 'VALLADOLID', 'SALAMANCA', 'GERONA', 'MALLORCA', 'MENORCA']\n"
     ]
    }
   ],
   "source": [
    "import msoffcrypto\n",
    "import pandas as pd\n",
    "from io import BytesIO\n",
    "\n",
    "\n",
    "\n",
    "file_name = \"/home/martin/zonasVerdes/input/direcciones_y_coordenadas_protegido.xlsx\"\n",
    "\n",
    "password = \"CLM_DES\"\n",
    "\n",
    "with open(file_name, \"rb\") as f:\n",
    "    encrypted = msoffcrypto.OfficeFile(f)\n",
    "    encrypted.load_key(password=password)\n",
    "    decrypted = BytesIO()\n",
    "    encrypted.decrypt(decrypted)\n",
    "\n",
    "# Carga el Excel desencriptado\n",
    "excel = pd.ExcelFile(decrypted)\n",
    "sheet_names = excel.sheet_names\n",
    "print(f\"Hojas disponibles: {sheet_names}\")"
   ]
  },
  {
   "cell_type": "code",
   "execution_count": null,
   "metadata": {
    "id": "4Cvykyaeq4i4"
   },
   "outputs": [],
   "source": []
  },
  {
   "cell_type": "code",
   "execution_count": 3,
   "metadata": {
    "colab": {
     "base_uri": "https://localhost:8080/"
    },
    "id": "b3JYKFGd01Q5",
    "outputId": "a91aa672-3751-4ca7-b7fe-6cc910027c4d"
   },
   "outputs": [
    {
     "name": "stdout",
     "output_type": "stream",
     "text": [
      "GALICIA (ORENSE)\n"
     ]
    },
    {
     "name": "stderr",
     "output_type": "stream",
     "text": [
      "<ipython-input-3-dd6da643fe57>:11: FutureWarning: Downcasting behavior in `replace` is deprecated and will be removed in a future version. To retain the old behavior, explicitly call `result.infer_objects(copy=False)`. To opt-in to the future behavior, set `pd.set_option('future.no_silent_downcasting', True)`\n",
      "  df[lat_col] = df[lat_col].replace(r'^\\s*$', np.nan, regex=True)\n"
     ]
    },
    {
     "name": "stdout",
     "output_type": "stream",
     "text": [
      "[AVISO] Invirtiendo coordenadas para GALICIA (ORENSE): asumido orden [lat, lon]\n",
      "GALICIA (PONTEVEDRA)\n",
      "[AVISO] Invirtiendo coordenadas para GALICIA (PONTEVEDRA): asumido orden [lat, lon]\n",
      "CATALUÑA (BARCELONA)\n",
      "[AVISO] Invirtiendo coordenadas para CATALUÑA (BARCELONA): asumido orden [lat, lon]\n",
      "ARAGÓN (ZARAGOZA)\n",
      "[AVISO] Invirtiendo coordenadas para ARAGÓN (ZARAGOZA): asumido orden [lat, lon]\n",
      "ARAGÓN (TERUEL)\n",
      "[AVISO] Invirtiendo coordenadas para ARAGÓN (TERUEL): asumido orden [lat, lon]\n",
      "PAÍS VASCO (VIZCAYA)\n",
      "[AVISO] Invirtiendo coordenadas para PAÍS VASCO (VIZCAYA): asumido orden [lat, lon]\n",
      "ANDALUCÍA (SEVILLA)\n",
      "[AVISO] Invirtiendo coordenadas para ANDALUCÍA (SEVILLA): asumido orden [lat, lon]\n",
      "CASTILLA Y LEÓN (LEÓN)\n",
      "[AVISO] Invirtiendo coordenadas para CASTILLA Y LEÓN (LEÓN): asumido orden [lat, lon]\n",
      "CASTILLA Y LEÓN (SEGOVIA)\n",
      "[AVISO] Invirtiendo coordenadas para CASTILLA Y LEÓN (SEGOVIA): asumido orden [lat, lon]\n",
      "NAVARRA (PAMPLONA)\n",
      "[AVISO] Invirtiendo coordenadas para NAVARRA (PAMPLONA): asumido orden [lat, lon]\n",
      "CASTILLA Y LEÓN (ZAMORA)\n",
      "[AVISO] Invirtiendo coordenadas para CASTILLA Y LEÓN (ZAMORA): asumido orden [lat, lon]\n",
      "CASTILLA Y LEÓN (VALLADOLID)\n",
      "[AVISO] Invirtiendo coordenadas para CASTILLA Y LEÓN (VALLADOLID): asumido orden [lat, lon]\n",
      "CASTILLA Y LEÓN (SALAMANCA)\n",
      "[AVISO] Invirtiendo coordenadas para CASTILLA Y LEÓN (SALAMANCA): asumido orden [lat, lon]\n",
      "CATALUÑA (GERONA)\n",
      "[AVISO] Invirtiendo coordenadas para CATALUÑA (GERONA): asumido orden [lat, lon]\n",
      "ISLAS BALEARES (MALLORCA)\n",
      "[AVISO] Invirtiendo coordenadas para ISLAS BALEARES (MALLORCA): asumido orden [lat, lon]\n",
      "ISLAS BALEARES (MENORCA)\n",
      "[AVISO] Invirtiendo coordenadas para ISLAS BALEARES (MENORCA): asumido orden [lat, lon]\n",
      "\n",
      "var galicia (orense) = ee.Geometry.Polygon(\n",
      "    [[[-8.2094, 42.2800],\n",
      "      [-8.2094, 42.4397],\n",
      "      [-7.8468, 42.4397],\n",
      "      [-7.8468, 42.2800],\n",
      "      [-8.2094, 42.2800]]]\n",
      ");\n",
      "var fechaInicio = '2023-05-01';\n",
      "var fechaFin = '2023-07-31';\n",
      "\n",
      "var coleccion = ee.ImageCollection(\"COPERNICUS/S2\")\n",
      "  .filterBounds(galicia (orense))\n",
      "  .filterDate(fechaInicio, fechaFin)\n",
      "  .filter(ee.Filter.lt('CLOUDY_PIXEL_PERCENTAGE', 10));\n",
      "\n",
      "var coleccionNDVI = coleccion.map(function(imagen) {\n",
      "  var ndvi = imagen.normalizedDifference(['B8', 'B4']).rename('NDVI');\n",
      "  return ndvi.copyProperties(imagen, imagen.propertyNames());\n",
      "});\n",
      "\n",
      "var ndviPromedio = coleccionNDVI.mean();\n",
      "\n",
      "var parametrosVisualizacion = {\n",
      "  min: 0,\n",
      "  max: 1,\n",
      "  palette: ['white', 'green']\n",
      "};\n",
      "Map.centerObject(galicia (orense), 10);\n",
      "Map.addLayer(ndviPromedio.clip(galicia (orense)), parametrosVisualizacion, 'NDVI Promedio');\n",
      "\n",
      "Export.image.toDrive({\n",
      "  image: ndviPromedio.clip(galicia (orense)),\n",
      "  description: 'NDVI_2023-05-01_GALICIA (ORENSE)',\n",
      "  folder: 'EarthEngine',\n",
      "  fileNamePrefix: 'NDVI_2023-05-01_GALICIA (ORENSE)',\n",
      "  scale: 10,\n",
      "  region: galicia (orense),\n",
      "  maxPixels: 1e13\n",
      "});\n",
      "\n"
     ]
    }
   ],
   "source": [
    "from shapely.geometry import Point\n",
    "from shapely.ops import transform\n",
    "import pyproj\n",
    "import textwrap\n",
    "\n",
    "def get_buffered_bounds(df, lon_col='long', lat_col='lat', buffer_m=500):\n",
    "    df = df.copy()\n",
    "\n",
    "    # Reemplaza espacios y strings vacíos por NaN\n",
    "    df[lon_col] = df[lon_col].replace(r'^\\s*$', np.nan, regex=True)\n",
    "    df[lat_col] = df[lat_col].replace(r'^\\s*$', np.nan, regex=True)\n",
    "\n",
    "    # Convierte a numérico, convirtiendo valores no numéricos a NaN\n",
    "    df[lon_col] = pd.to_numeric(df[lon_col], errors='coerce')\n",
    "    df[lat_col] = pd.to_numeric(df[lat_col], errors='coerce')\n",
    "\n",
    "    # Elimina filas sin coordenadas válidas\n",
    "    df = df.dropna(subset=[lon_col, lat_col])\n",
    "\n",
    "    if df.empty:\n",
    "        raise ValueError(\"No hay coordenadas válidas en esta hoja.\")\n",
    "\n",
    "    # Resto igual\n",
    "    points = [Point(lon, lat) for lon, lat in zip(df[lon_col], df[lat_col])]\n",
    "\n",
    "    proj_wgs84 = pyproj.CRS('EPSG:4326')\n",
    "    proj_utm = pyproj.CRS.from_user_input(\"EPSG:25830\")\n",
    "    project = pyproj.Transformer.from_crs(proj_wgs84, proj_utm, always_xy=True).transform\n",
    "    project_back = pyproj.Transformer.from_crs(proj_utm, proj_wgs84, always_xy=True).transform\n",
    "\n",
    "    multipoint = None\n",
    "    for p in points:\n",
    "        projected = transform(project, p)\n",
    "        buffered = projected.buffer(buffer_m)\n",
    "        multipoint = buffered if multipoint is None else multipoint.union(buffered)\n",
    "\n",
    "    bounds = transform(project_back, multipoint).bounds\n",
    "    return bounds\n",
    "\n",
    "def generar_codigo_gee(nombre_hoja, bounds, fecha_inicio, fecha_fin):\n",
    "    l, b, r, t = bounds\n",
    "\n",
    "    # Si las coordenadas parecen estar en formato [lat, lon], se corrigen a [lon, lat]\n",
    "    if all(-90 <= x <= 90 for x in (l, r, b, t)):\n",
    "        print(f\"[AVISO] Invirtiendo coordenadas para {nombre_hoja}: asumido orden [lat, lon]\")\n",
    "        l, b, r, t = b, l, t, r\n",
    "\n",
    "    codigo = f\"\"\"\n",
    "    var {nombre_hoja.lower()} = ee.Geometry.Polygon(\n",
    "        [[[{l:.4f}, {b:.4f}],\n",
    "          [{l:.4f}, {t:.4f}],\n",
    "          [{r:.4f}, {t:.4f}],\n",
    "          [{r:.4f}, {b:.4f}],\n",
    "          [{l:.4f}, {b:.4f}]]]\n",
    "    );\n",
    "    var fechaInicio = '{fecha_inicio}';\n",
    "    var fechaFin = '{fecha_fin}';\n",
    "\n",
    "    var coleccion = ee.ImageCollection(\"COPERNICUS/S2\")\n",
    "      .filterBounds({nombre_hoja.lower()})\n",
    "      .filterDate(fechaInicio, fechaFin)\n",
    "      .filter(ee.Filter.lt('CLOUDY_PIXEL_PERCENTAGE', 10));\n",
    "\n",
    "    var coleccionNDVI = coleccion.map(function(imagen) {{\n",
    "      var ndvi = imagen.normalizedDifference(['B8', 'B4']).rename('NDVI');\n",
    "      return ndvi.copyProperties(imagen, imagen.propertyNames());\n",
    "    }});\n",
    "\n",
    "    var ndviPromedio = coleccionNDVI.mean();\n",
    "\n",
    "    var parametrosVisualizacion = {{\n",
    "      min: 0,\n",
    "      max: 1,\n",
    "      palette: ['white', 'green']\n",
    "    }};\n",
    "    Map.centerObject({nombre_hoja.lower()}, 10);\n",
    "    Map.addLayer(ndviPromedio.clip({nombre_hoja.lower()}), parametrosVisualizacion, 'NDVI Promedio');\n",
    "\n",
    "    Export.image.toDrive({{\n",
    "      image: ndviPromedio.clip({nombre_hoja.lower()}),\n",
    "      description: 'NDVI_{fecha_inicio}_{nombre_hoja}',\n",
    "      folder: 'EarthEngine',\n",
    "      fileNamePrefix: 'NDVI_{fecha_inicio}_{nombre_hoja}',\n",
    "      scale: 10,\n",
    "      region: {nombre_hoja.lower()},\n",
    "      maxPixels: 1e13\n",
    "    }});\n",
    "    \"\"\"\n",
    "    return textwrap.dedent(codigo)\n",
    "\n",
    "\n",
    "# Ejemplo: para todas las hojas\n",
    "fecha_inicio = '2023-05-01'\n",
    "fecha_fin = '2023-07-31'\n",
    "codigos = {}\n",
    "\n",
    "for hoja in sheet_names:\n",
    "    print(hoja)\n",
    "    df = excel.parse(hoja)\n",
    "    bounds = get_buffered_bounds(df)\n",
    "    codigos[hoja] = generar_codigo_gee(hoja, bounds, fecha_inicio, fecha_fin)\n",
    "\n",
    "# Mostrar un ejemplo\n",
    "print(codigos[sheet_names[0]])"
   ]
  },
  {
   "cell_type": "code",
   "execution_count": 11,
   "metadata": {
    "colab": {
     "base_uri": "https://localhost:8080/"
    },
    "id": "aZkza9bP09t-",
    "outputId": "e2ec10c6-1b18-46bd-fb3c-d011de5e0787"
   },
   "outputs": [
    {
     "name": "stdout",
     "output_type": "stream",
     "text": [
      "\n",
      "var islas baleares (menorca) = ee.Geometry.Polygon(\n",
      "    [[[3.9601, 39.9342],\n",
      "      [3.9601, 39.9899],\n",
      "      [4.0547, 39.9899],\n",
      "      [4.0547, 39.9342],\n",
      "      [3.9601, 39.9342]]]\n",
      ");\n",
      "var fechaInicio = '2023-05-01';\n",
      "var fechaFin = '2023-07-31';\n",
      "\n",
      "var coleccion = ee.ImageCollection(\"COPERNICUS/S2\")\n",
      "  .filterBounds(islas baleares (menorca))\n",
      "  .filterDate(fechaInicio, fechaFin)\n",
      "  .filter(ee.Filter.lt('CLOUDY_PIXEL_PERCENTAGE', 10));\n",
      "\n",
      "var coleccionNDVI = coleccion.map(function(imagen) {\n",
      "  var ndvi = imagen.normalizedDifference(['B8', 'B4']).rename('NDVI');\n",
      "  return ndvi.copyProperties(imagen, imagen.propertyNames());\n",
      "});\n",
      "\n",
      "var ndviPromedio = coleccionNDVI.mean();\n",
      "\n",
      "var parametrosVisualizacion = {\n",
      "  min: 0,\n",
      "  max: 1,\n",
      "  palette: ['white', 'green']\n",
      "};\n",
      "Map.centerObject(islas baleares (menorca), 10);\n",
      "Map.addLayer(ndviPromedio.clip(islas baleares (menorca)), parametrosVisualizacion, 'NDVI Promedio');\n",
      "\n",
      "Export.image.toDrive({\n",
      "  image: ndviPromedio.clip(islas baleares (menorca)),\n",
      "  description: 'NDVI_2023-05-01_ISLAS BALEARES (MENORCA)',\n",
      "  folder: 'EarthEngine',\n",
      "  fileNamePrefix: 'NDVI_2023-05-01_ISLAS BALEARES (MENORCA)',\n",
      "  scale: 10,\n",
      "  region: islas baleares (menorca),\n",
      "  maxPixels: 1e13\n",
      "});\n",
      "\n"
     ]
    }
   ],
   "source": [
    "#7,8,9,10,11,12,14,15\n",
    "print(codigos[sheet_names[15]])"
   ]
  },
  {
   "cell_type": "code",
   "execution_count": 27,
   "metadata": {
    "id": "ZU-GYIj-2lE5"
   },
   "outputs": [],
   "source": [
    "import os\n",
    "import io\n",
    "import numpy as np\n",
    "import pandas as pd\n",
    "import geopandas as gpd\n",
    "import rasterio\n",
    "from rasterio.mask import mask\n",
    "from shapely.geometry import Point, mapping\n",
    "import msoffcrypto\n",
    "from concurrent.futures import ProcessPoolExecutor\n",
    "from tqdm import tqdm\n",
    "import tempfile\n",
    "import pyproj\n",
    "from shapely.ops import transform\n",
    "\n",
    "def cargar_excel_protegido(ruta_excel, password):\n",
    "    with open(ruta_excel, 'rb') as f:\n",
    "        archivo = msoffcrypto.OfficeFile(f)\n",
    "        archivo.load_key(password=password)\n",
    "        excel_desprotegido = io.BytesIO()\n",
    "        archivo.decrypt(excel_desprotegido)\n",
    "        excel_desprotegido.seek(0)\n",
    "    return pd.ExcelFile(excel_desprotegido)\n",
    "\n",
    "def buffer_en_metros(punto, metros, crs_actual):\n",
    "    # CRS métrico: pseudo‐Mercator\n",
    "    crs_metrico = pyproj.CRS(\"EPSG:3857\")\n",
    "    # transformador → métrico\n",
    "    to_m = pyproj.Transformer.from_crs(crs_actual, crs_metrico, always_xy=True).transform\n",
    "    # transformador ← de métrico de nuevo a ráster\n",
    "    to_raster = pyproj.Transformer.from_crs(crs_metrico, crs_actual, always_xy=True).transform\n",
    "\n",
    "    punto_m = transform(to_m, punto)                  # punto en metros\n",
    "    buffer_m = punto_m.buffer(metros)                 # círculo de metros\n",
    "    buffer_geo = transform(to_raster, buffer_m)       # polígono de vuelta a grados\n",
    "    return buffer_geo\n",
    "\n",
    "def extraer_estadisticas_raster(ruta_raster, punto, radios=[100, 250, 500]):\n",
    "    resultados = {}\n",
    "    with rasterio.open(ruta_raster) as src:\n",
    "        crs_raster = src.crs\n",
    "\n",
    "        for radio in radios:\n",
    "            try:\n",
    "                buf = buffer_en_metros(punto, radio, crs_raster)\n",
    "                out_image, _ = mask(src, [mapping(buf)], crop=True)\n",
    "                datos = out_image[0]\n",
    "                datos = datos.astype('float')\n",
    "                datos[datos == src.nodata] = np.nan\n",
    "                datos = datos[~np.isnan(datos)]\n",
    "                if len(datos) == 0:\n",
    "                    stats = {f'{stat}_{radio}m': None for stat in ['mean', 'median', 'q25', 'q75', 'std', 'iqr']}\n",
    "                else:\n",
    "                    q25 = np.percentile(datos, 25)\n",
    "                    q75 = np.percentile(datos, 75)\n",
    "                    stats = {\n",
    "                        f'mean_{radio}m': np.mean(datos),\n",
    "                        f'median_{radio}m': np.median(datos),\n",
    "                        f'q25_{radio}m': q25,\n",
    "                        f'q75_{radio}m': q75,\n",
    "                        f'std_{radio}m': np.std(datos),\n",
    "                        f'iqr_{radio}m': q75 - q25,\n",
    "                    }\n",
    "                resultados.update(stats)\n",
    "            except Exception as e:\n",
    "                print(f\"Error procesando radio {radio} m para punto {punto}: {e}\")\n",
    "                resultados.update({f'{stat}_{radio}m': None for stat in ['mean', 'median', 'q25', 'q75', 'std', 'iqr']})\n",
    "    return resultados\n",
    "\n",
    "def procesar_hoja(args):\n",
    "    hoja, df, raster_path, output_path = args\n",
    "    print(f\"[+] Procesando hoja: {hoja}\")\n",
    "\n",
    "    if not os.path.exists(raster_path):\n",
    "        print(f\"[Aviso] Raster no encontrado para hoja '{hoja}', se omite.\")\n",
    "        return None\n",
    "\n",
    "    if 'lat' not in df.columns or 'long' not in df.columns:\n",
    "        print(f\"[Aviso] Hoja '{hoja}' sin columnas lat/long válidas.\")\n",
    "        return None\n",
    "\n",
    "    try:\n",
    "        with rasterio.open(raster_path) as src:\n",
    "            crs_raster = src.crs\n",
    "    except Exception as e:\n",
    "        print(f\"[Error] No se pudo abrir el raster '{raster_path}': {e}\")\n",
    "        return None\n",
    "\n",
    "    resultados = []\n",
    "    for _, fila in df.iterrows():\n",
    "        lat = fila.get('lat')\n",
    "        lon = fila.get('long')\n",
    "\n",
    "        if pd.isnull(lat) or pd.isnull(lon):\n",
    "            resultados.append({f'{stat}_{r}m': None for r in [100, 250, 500] for stat in ['mean','max','min', 'median', 'q25', 'q75', 'std', 'iqr']})\n",
    "            continue\n",
    "\n",
    "        try:\n",
    "            lat = float(lat)\n",
    "            lon = float(lon)\n",
    "        except ValueError:\n",
    "            resultados.append({f'{stat}_{r}m': None for r in [100, 250, 500] for stat in ['mean', 'max', 'min', 'median', 'q25', 'q75', 'std', 'iqr']})\n",
    "            continue\n",
    "\n",
    "        try:\n",
    "            punto_geo = gpd.GeoSeries([Point(lon, lat)], crs=\"EPSG:4326\").to_crs(crs_raster)\n",
    "            punto = punto_geo.iloc[0]\n",
    "            stats = extraer_estadisticas_raster(raster_path, punto)\n",
    "            print(stats)\n",
    "            resultados.append(stats)\n",
    "        except Exception as e:\n",
    "            print(f\"[Error] Al procesar punto ({lat}, {lon}) en hoja '{hoja}': {e}\")\n",
    "            resultados.append({f'{stat}_{r}m': None for r in [100, 250, 500] for stat in ['mean', 'max', 'min', 'median', 'q25', 'q75', 'std', 'iqr']})\n",
    "\n",
    "    df_resultado = pd.concat([df, pd.DataFrame(resultados)], axis=1)\n",
    "    hoja_path = os.path.join(output_path, f\"{hoja}.xlsx\")\n",
    "    df_resultado.to_excel(hoja_path, index=False)\n",
    "    print(f\"✅ Hoja '{hoja}' procesada.\")\n",
    "    return hoja_path, hoja\n",
    "\n",
    "def procesar_excel_paralelo(ruta_excel, password, carpeta_rasters, salida_excel, max_workers=4):\n",
    "    xls = cargar_excel_protegido(ruta_excel, password)\n",
    "    hojas_y_dfs = [(hoja, xls.parse(hoja)) for hoja in xls.sheet_names]\n",
    "\n",
    "    with tempfile.TemporaryDirectory() as temp_dir:\n",
    "        args = [\n",
    "            (hoja, df, os.path.join(carpeta_rasters, f\"{hoja}.tif\"), temp_dir)\n",
    "            for hoja, df in hojas_y_dfs\n",
    "        ]\n",
    "\n",
    "        print(f\"🚀 Procesando {len(args)} hojas en paralelo...\")\n",
    "        with ProcessPoolExecutor(max_workers=max_workers) as executor:\n",
    "            resultados = list(tqdm(executor.map(procesar_hoja, args), total=len(args)))\n",
    "\n",
    "        writer = pd.ExcelWriter(salida_excel, engine='openpyxl')\n",
    "        for res in resultados:\n",
    "            if res:\n",
    "                hoja_path, hoja = res\n",
    "                df_temp = pd.read_excel(hoja_path)\n",
    "                df_temp.to_excel(writer, sheet_name=hoja, index=False)\n",
    "        writer.close()\n",
    "        print(f\"✅ Todas las hojas combinadas en: {salida_excel}\")\n"
   ]
  },
  {
   "cell_type": "code",
   "execution_count": null,
   "metadata": {
    "colab": {
     "base_uri": "https://localhost:8080/"
    },
    "id": "E8ZpU3sf2CIw",
    "outputId": "26f9ef5b-ea2b-455c-8242-645f023f1fbb"
   },
   "outputs": [
    {
     "name": "stdout",
     "output_type": "stream",
     "text": [
      "🚀 Procesando 16 hojas en paralelo...\n"
     ]
    },
    {
     "name": "stderr",
     "output_type": "stream",
     "text": [
      "  0%|          | 0/16 [00:00<?, ?it/s]"
     ]
    },
    {
     "name": "stdout",
     "output_type": "stream",
     "text": [
      "[+] Procesando hoja: ORENSE\n",
      "{'mean_100m': 0.37281220558116607, 'median_100m': 0.3893493711948395, 'q25_100m': 0.3127789795398712, 'q75_100m': 0.45416808128356934, 'std_100m': 0.10603703826090279, 'iqr_100m': 0.14138910174369812, 'mean_250m': 0.37281220558116607, 'median_250m': 0.3893493711948395, 'q25_250m': 0.3127789795398712, 'q75_250m': 0.45416808128356934, 'std_250m': 0.10603703826090279, 'iqr_250m': 0.14138910174369812, 'mean_500m': 0.37281220558116607, 'median_500m': 0.3893493711948395, 'q25_500m': 0.3127789795398712, 'q75_500m': 0.45416808128356934, 'std_500m': 0.10603703826090279, 'iqr_500m': 0.14138910174369812}\n",
      "{'mean_100m': 0.37281220558116607, 'median_100m': 0.3893493711948395, 'q25_100m': 0.3127789795398712, 'q75_100m': 0.45416808128356934, 'std_100m': 0.10603703826090279, 'iqr_100m': 0.14138910174369812, 'mean_250m': 0.37281220558116607, 'median_250m': 0.3893493711948395, 'q25_250m': 0.3127789795398712, 'q75_250m': 0.45416808128356934, 'std_250m': 0.10603703826090279, 'iqr_250m': 0.14138910174369812, 'mean_500m': 0.37281220558116607, 'median_500m': 0.3893493711948395, 'q25_500m': 0.3127789795398712, 'q75_500m': 0.45416808128356934, 'std_500m': 0.10603703826090279, 'iqr_500m': 0.14138910174369812}\n",
      "{'mean_100m': 0.37281220558116607, 'median_100m': 0.3893493711948395, 'q25_100m': 0.3127789795398712, 'q75_100m': 0.45416808128356934, 'std_100m': 0.10603703826090279, 'iqr_100m': 0.14138910174369812, 'mean_250m': 0.37281220558116607, 'median_250m': 0.3893493711948395, 'q25_250m': 0.3127789795398712, 'q75_250m': 0.45416808128356934, 'std_250m': 0.10603703826090279, 'iqr_250m': 0.14138910174369812, 'mean_500m': 0.37281220558116607, 'median_500m': 0.3893493711948395, 'q25_500m': 0.3127789795398712, 'q75_500m': 0.45416808128356934, 'std_500m': 0.10603703826090279, 'iqr_500m': 0.14138910174369812}\n",
      "{'mean_100m': 0.37281220558116607, 'median_100m': 0.3893493711948395, 'q25_100m': 0.3127789795398712, 'q75_100m': 0.45416808128356934, 'std_100m': 0.10603703826090279, 'iqr_100m': 0.14138910174369812, 'mean_250m': 0.37281220558116607, 'median_250m': 0.3893493711948395, 'q25_250m': 0.3127789795398712, 'q75_250m': 0.45416808128356934, 'std_250m': 0.10603703826090279, 'iqr_250m': 0.14138910174369812, 'mean_500m': 0.37281220558116607, 'median_500m': 0.3893493711948395, 'q25_500m': 0.3127789795398712, 'q75_500m': 0.45416808128356934, 'std_500m': 0.10603703826090279, 'iqr_500m': 0.14138910174369812}\n"
     ]
    },
    {
     "name": "stderr",
     "output_type": "stream",
     "text": [
      "  0%|          | 0/16 [00:08<?, ?it/s]"
     ]
    },
    {
     "name": "stdout",
     "output_type": "stream",
     "text": [
      "[+] Procesando hoja: PONTEVEDRA\n"
     ]
    },
    {
     "name": "stderr",
     "output_type": "stream",
     "text": [
      "\n"
     ]
    },
    {
     "name": "stdout",
     "output_type": "stream",
     "text": [
      "{'mean_100m': 0.33579007033699637, 'median_100m': 0.36129435896873474, 'q25_100m': 0.2995016574859619, 'q75_100m': 0.41959303617477417, 'std_100m': 0.12918389701307287, 'iqr_100m': 0.12009137868881226, 'mean_250m': 0.33579007033699637, 'median_250m': 0.36129435896873474, 'q25_250m': 0.2995016574859619, 'q75_250m': 0.41959303617477417, 'std_250m': 0.12918389701307287, 'iqr_250m': 0.12009137868881226, 'mean_500m': 0.33579007033699637, 'median_500m': 0.36129435896873474, 'q25_500m': 0.2995016574859619, 'q75_500m': 0.41959303617477417, 'std_500m': 0.12918389701307287, 'iqr_500m': 0.12009137868881226}\n",
      "{'mean_100m': 0.33579007033699637, 'median_100m': 0.36129435896873474, 'q25_100m': 0.2995016574859619, 'q75_100m': 0.41959303617477417, 'std_100m': 0.12918389701307287, 'iqr_100m': 0.12009137868881226, 'mean_250m': 0.33579007033699637, 'median_250m': 0.36129435896873474, 'q25_250m': 0.2995016574859619, 'q75_250m': 0.41959303617477417, 'std_250m': 0.12918389701307287, 'iqr_250m': 0.12009137868881226, 'mean_500m': 0.33579007033699637, 'median_500m': 0.36129435896873474, 'q25_500m': 0.2995016574859619, 'q75_500m': 0.41959303617477417, 'std_500m': 0.12918389701307287, 'iqr_500m': 0.12009137868881226}\n",
      "{'mean_100m': 0.33579007033699637, 'median_100m': 0.36129435896873474, 'q25_100m': 0.2995016574859619, 'q75_100m': 0.41959303617477417, 'std_100m': 0.12918389701307287, 'iqr_100m': 0.12009137868881226, 'mean_250m': 0.33579007033699637, 'median_250m': 0.36129435896873474, 'q25_250m': 0.2995016574859619, 'q75_250m': 0.41959303617477417, 'std_250m': 0.12918389701307287, 'iqr_250m': 0.12009137868881226, 'mean_500m': 0.33579007033699637, 'median_500m': 0.36129435896873474, 'q25_500m': 0.2995016574859619, 'q75_500m': 0.41959303617477417, 'std_500m': 0.12918389701307287, 'iqr_500m': 0.12009137868881226}\n",
      "{'mean_100m': 0.33579007033699637, 'median_100m': 0.36129435896873474, 'q25_100m': 0.2995016574859619, 'q75_100m': 0.41959303617477417, 'std_100m': 0.12918389701307287, 'iqr_100m': 0.12009137868881226, 'mean_250m': 0.33579007033699637, 'median_250m': 0.36129435896873474, 'q25_250m': 0.2995016574859619, 'q75_250m': 0.41959303617477417, 'std_250m': 0.12918389701307287, 'iqr_250m': 0.12009137868881226, 'mean_500m': 0.33579007033699637, 'median_500m': 0.36129435896873474, 'q25_500m': 0.2995016574859619, 'q75_500m': 0.41959303617477417, 'std_500m': 0.12918389701307287, 'iqr_500m': 0.12009137868881226}\n"
     ]
    }
   ],
   "source": [
    "procesar_excel_paralelo(\n",
    "    ruta_excel='/home/martin/zonasVerdes/input/direcciones_y_coordenadas_protegido.xlsx',\n",
    "    password='CLM_DES',\n",
    "    carpeta_rasters='/home/martin/zonasVerdes/input/EarthEngine/EarthEngine',\n",
    "    salida_excel='/home/martin/zonasVerdes/input/resultados_ndvi.xlsx',\n",
    "    max_workers=1  # Ajusta según tu CPU\n",
    ")\n"
   ]
  },
  {
   "cell_type": "code",
   "execution_count": null,
   "metadata": {},
   "outputs": [],
   "source": []
  }
 ],
 "metadata": {
  "colab": {
   "provenance": []
  },
  "kernelspec": {
   "display_name": "venv",
   "language": "python",
   "name": "python3"
  },
  "language_info": {
   "codemirror_mode": {
    "name": "ipython",
    "version": 3
   },
   "file_extension": ".py",
   "mimetype": "text/x-python",
   "name": "python",
   "nbconvert_exporter": "python",
   "pygments_lexer": "ipython3",
   "version": "3.10.9"
  }
 },
 "nbformat": 4,
 "nbformat_minor": 4
}
