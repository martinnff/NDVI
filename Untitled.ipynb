{
 "cells": [
  {
   "cell_type": "code",
   "execution_count": 1,
   "id": "1d95c3a1",
   "metadata": {},
   "outputs": [],
   "source": [
    "import os\n",
    "import rasterio as rio\n",
    "import numpy as np"
   ]
  },
  {
   "cell_type": "code",
   "execution_count": 110,
   "id": "76037fbb",
   "metadata": {},
   "outputs": [],
   "source": [
    "path = \"NDVI.tif\"\n",
    "\n",
    "with rio.open(path) as src:\n",
    "    values = src.read(1)\n",
    "\n",
    "raster = rio.open(path)"
   ]
  },
  {
   "cell_type": "code",
   "execution_count": 111,
   "id": "6e4e9bad",
   "metadata": {},
   "outputs": [],
   "source": [
    "def getIndexInsideCircle(x, y, radio, xmax, ymax):\n",
    "    points = np.array(\n",
    "        np.meshgrid(\n",
    "            range(max((x - radio), 0), min((x + radio), xmax)),\n",
    "            range(max((y - radio), 0),min((y + radio), ymax))\n",
    "        ))\n",
    "    points = points.reshape(2,points.shape[1]**2).T\n",
    "    dists = np.zeros(len(points))\n",
    "    for i in range(len(dists)):\n",
    "        dists[i] =  np.sqrt(\n",
    "            (x - points[i, 0])**2 +\n",
    "            (y - points[i, 1])**2\n",
    "            )\n",
    "\n",
    "    index = np.where(dists < radio)\n",
    "    return points[index, ].squeeze()\n"
   ]
  },
  {
   "cell_type": "code",
   "execution_count": 112,
   "id": "56026823",
   "metadata": {},
   "outputs": [],
   "source": [
    "def getNDVI(lat, lon, values, raster, radio):\n",
    "    \n",
    "    rxmin = raster.bounds[0]\n",
    "    rymin = raster.bounds[1]\n",
    "    rxmax = raster.bounds[2]\n",
    "    rymax = raster.bounds[3]\n",
    "\n",
    "    rangex = abs(rxmax - rxmin)\n",
    "    rangey = abs(rymax - rymin)\n",
    "\n",
    "    resx = rangex / raster.width\n",
    "    resy = rangey / raster.height\n",
    "\n",
    "    xind = int((lat - rxmin) // resx)\n",
    "    yind = int((lon - rymin) // resy)\n",
    "    \n",
    "    rasterIndex = getIndexInsideCircle(xind, yind, radio, raster.width, raster.height)\n",
    "    \n",
    "    out = {\"index\" : rasterIndex, \"values\": values[rasterIndex[:,0],rasterIndex[:,1]]}\n",
    "    \n",
    "    return(out)\n",
    "\n"
   ]
  },
  {
   "cell_type": "code",
   "execution_count": 113,
   "id": "e266076a",
   "metadata": {},
   "outputs": [
    {
     "data": {
      "text/plain": [
       "array([0.445946  , 0.41887388, 0.4179526 , 0.44921678, 0.4480919 ,\n",
       "       0.3914288 , 0.42998576, 0.43379164, 0.43571752, 0.4599103 ,\n",
       "       0.4492233 , 0.44888648, 0.43837866, 0.4200408 , 0.4507243 ,\n",
       "       0.40618083, 0.4296732 , 0.45818126, 0.4479276 , 0.45577785,\n",
       "       0.4282597 , 0.45887107, 0.46254385, 0.4555558 , 0.3726557 ,\n",
       "       0.38167217, 0.44085345, 0.45412904, 0.43886316, 0.4385863 ,\n",
       "       0.47323963, 0.45653778, 0.4326982 , 0.39193663, 0.37541988,\n",
       "       0.4054384 , 0.44571358, 0.42798743, 0.4118056 , 0.47412872,\n",
       "       0.4458862 , 0.43532747, 0.42166427, 0.42627513, 0.4167584 ,\n",
       "       0.40439722, 0.4004352 , 0.40275076, 0.46655393, 0.44522431,\n",
       "       0.4498769 , 0.43261242, 0.43944734, 0.46110708, 0.38180745,\n",
       "       0.3897801 , 0.4171034 , 0.44502997, 0.45010185, 0.4060649 ,\n",
       "       0.4200278 , 0.46210355, 0.3895834 , 0.42337888, 0.45425117,\n",
       "       0.36869052, 0.35980785, 0.37008983, 0.3690701 ], dtype=float32)"
      ]
     },
     "execution_count": 113,
     "metadata": {},
     "output_type": "execute_result"
    }
   ],
   "source": [
    "a = getNDVI(-8,43,values,raster,5)\n",
    "a[\"values\"]\n"
   ]
  }
 ],
 "metadata": {
  "kernelspec": {
   "display_name": "Python 3 (ipykernel)",
   "language": "python",
   "name": "python3"
  },
  "language_info": {
   "codemirror_mode": {
    "name": "ipython",
    "version": 3
   },
   "file_extension": ".py",
   "mimetype": "text/x-python",
   "name": "python",
   "nbconvert_exporter": "python",
   "pygments_lexer": "ipython3",
   "version": "3.10.9"
  }
 },
 "nbformat": 4,
 "nbformat_minor": 5
}
