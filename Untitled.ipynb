{
 "cells": [
  {
   "cell_type": "code",
   "execution_count": 1,
   "id": "1d95c3a1",
   "metadata": {},
   "outputs": [],
   "source": [
    "import os\n",
    "import rasterio as rio\n",
    "import numpy as np\n",
    "import utils "
   ]
  },
  {
   "cell_type": "code",
   "execution_count": 2,
   "id": "76037fbb",
   "metadata": {},
   "outputs": [],
   "source": [
    "path = \"./rasterImages/NDVI.tif\"\n",
    "raster = rio.open(path)\n"
   ]
  },
  {
   "cell_type": "code",
   "execution_count": 4,
   "id": "e266076a",
   "metadata": {},
   "outputs": [
    {
     "data": {
      "text/plain": [
       "array([[3118, 2594],\n",
       "       [3119, 2594],\n",
       "       [3120, 2594],\n",
       "       ...,\n",
       "       [3154, 2992],\n",
       "       [3155, 2992],\n",
       "       [3156, 2992]])"
      ]
     },
     "execution_count": 4,
     "metadata": {},
     "output_type": "execute_result"
    }
   ],
   "source": [
    "a = utils.getNDVI(-8,43,raster,200)\n",
    "a[\"index\"]\n"
   ]
  },
  {
   "cell_type": "code",
   "execution_count": null,
   "id": "166cb3c8",
   "metadata": {},
   "outputs": [],
   "source": []
  }
 ],
 "metadata": {
  "kernelspec": {
   "display_name": "Python 3 (ipykernel)",
   "language": "python",
   "name": "python3"
  },
  "language_info": {
   "codemirror_mode": {
    "name": "ipython",
    "version": 3
   },
   "file_extension": ".py",
   "mimetype": "text/x-python",
   "name": "python",
   "nbconvert_exporter": "python",
   "pygments_lexer": "ipython3",
   "version": "3.10.9"
  }
 },
 "nbformat": 4,
 "nbformat_minor": 5
}
